{
 "cells": [
  {
   "cell_type": "code",
   "execution_count": 1,
   "id": "d833ad38",
   "metadata": {},
   "outputs": [],
   "source": [
    "import pandas as pd\n",
    "import numpy as np\n",
    "import matplotlib.pyplot as plt\n",
    "import seaborn as sns\n",
    "import os\n",
    "from datetime import datetime\n",
    "pd.set_option(\"display.max_columns\",None)"
   ]
  },
  {
   "cell_type": "code",
   "execution_count": 2,
   "id": "282afb59",
   "metadata": {},
   "outputs": [
    {
     "name": "stderr",
     "output_type": "stream",
     "text": [
      "C:\\Users\\91843\\AppData\\Local\\Temp\\ipykernel_11400\\2703212855.py:1: DtypeWarning: Columns (27,32,37,43,45) have mixed types. Specify dtype option on import or set low_memory=False.\n",
      "  df = pd.read_csv(r\"F:\\Education and Job\\Guvi\\Placement prep projects\\Horse_Race_Prediction\\Combined_data\\combined_horse_race_data.csv\")\n"
     ]
    },
    {
     "data": {
      "text/html": [
       "<div>\n",
       "<style scoped>\n",
       "    .dataframe tbody tr th:only-of-type {\n",
       "        vertical-align: middle;\n",
       "    }\n",
       "\n",
       "    .dataframe tbody tr th {\n",
       "        vertical-align: top;\n",
       "    }\n",
       "\n",
       "    .dataframe thead th {\n",
       "        text-align: right;\n",
       "    }\n",
       "</style>\n",
       "<table border=\"1\" class=\"dataframe\">\n",
       "  <thead>\n",
       "    <tr style=\"text-align: right;\">\n",
       "      <th></th>\n",
       "      <th>rid</th>\n",
       "      <th>horseName</th>\n",
       "      <th>age</th>\n",
       "      <th>saddle</th>\n",
       "      <th>decimalPrice</th>\n",
       "      <th>isFav</th>\n",
       "      <th>trainerName</th>\n",
       "      <th>jockeyName</th>\n",
       "      <th>position</th>\n",
       "      <th>positionL</th>\n",
       "      <th>dist</th>\n",
       "      <th>weightSt</th>\n",
       "      <th>weightLb</th>\n",
       "      <th>overWeight</th>\n",
       "      <th>outHandicap</th>\n",
       "      <th>headGear</th>\n",
       "      <th>RPR</th>\n",
       "      <th>TR</th>\n",
       "      <th>OR</th>\n",
       "      <th>father</th>\n",
       "      <th>mother</th>\n",
       "      <th>gfather</th>\n",
       "      <th>runners</th>\n",
       "      <th>margin</th>\n",
       "      <th>weight</th>\n",
       "      <th>res_win</th>\n",
       "      <th>res_place</th>\n",
       "      <th>price</th>\n",
       "      <th>course</th>\n",
       "      <th>time</th>\n",
       "      <th>date</th>\n",
       "      <th>title</th>\n",
       "      <th>rclass</th>\n",
       "      <th>band</th>\n",
       "      <th>ages</th>\n",
       "      <th>distance</th>\n",
       "      <th>condition</th>\n",
       "      <th>hurdles</th>\n",
       "      <th>prizes</th>\n",
       "      <th>winningTime</th>\n",
       "      <th>prize</th>\n",
       "      <th>metric</th>\n",
       "      <th>countryCode</th>\n",
       "      <th>ncond</th>\n",
       "      <th>class</th>\n",
       "      <th>currency</th>\n",
       "    </tr>\n",
       "  </thead>\n",
       "  <tbody>\n",
       "    <tr>\n",
       "      <th>0</th>\n",
       "      <td>271018</td>\n",
       "      <td>Combermere</td>\n",
       "      <td>6.0</td>\n",
       "      <td>0.0</td>\n",
       "      <td>0.222222</td>\n",
       "      <td>0</td>\n",
       "      <td>R G Frost</td>\n",
       "      <td>J Frost</td>\n",
       "      <td>1</td>\n",
       "      <td>NaN</td>\n",
       "      <td>NaN</td>\n",
       "      <td>11</td>\n",
       "      <td>0</td>\n",
       "      <td>NaN</td>\n",
       "      <td>NaN</td>\n",
       "      <td>NaN</td>\n",
       "      <td>111.0</td>\n",
       "      <td>94.0</td>\n",
       "      <td>NaN</td>\n",
       "      <td>Absalom</td>\n",
       "      <td>Queen's Parade</td>\n",
       "      <td>Sovereign Path</td>\n",
       "      <td>14</td>\n",
       "      <td>1.521003</td>\n",
       "      <td>69</td>\n",
       "      <td>1.0</td>\n",
       "      <td>1.0</td>\n",
       "      <td>NaN</td>\n",
       "      <td>Exeter</td>\n",
       "      <td>03:15</td>\n",
       "      <td>90/01/01</td>\n",
       "      <td>David Garrett Memorial Challenge Trophy Novice...</td>\n",
       "      <td>NaN</td>\n",
       "      <td>NaN</td>\n",
       "      <td>6-8yo</td>\n",
       "      <td>3m1f</td>\n",
       "      <td>Soft</td>\n",
       "      <td>19 fences</td>\n",
       "      <td>[2922.5, 875.0, 420.0, 192.5]</td>\n",
       "      <td>398.3</td>\n",
       "      <td>4409.0</td>\n",
       "      <td>5028.0</td>\n",
       "      <td>GB</td>\n",
       "      <td>5</td>\n",
       "      <td>0</td>\n",
       "      <td>NaN</td>\n",
       "    </tr>\n",
       "    <tr>\n",
       "      <th>1</th>\n",
       "      <td>271018</td>\n",
       "      <td>Royal Battery</td>\n",
       "      <td>6.0</td>\n",
       "      <td>0.0</td>\n",
       "      <td>0.090909</td>\n",
       "      <td>0</td>\n",
       "      <td>D H Barons</td>\n",
       "      <td>S Earle</td>\n",
       "      <td>2</td>\n",
       "      <td>10</td>\n",
       "      <td>NaN</td>\n",
       "      <td>11</td>\n",
       "      <td>0</td>\n",
       "      <td>NaN</td>\n",
       "      <td>NaN</td>\n",
       "      <td>NaN</td>\n",
       "      <td>101.0</td>\n",
       "      <td>88.0</td>\n",
       "      <td>NaN</td>\n",
       "      <td>Norfolk Air</td>\n",
       "      <td>All At Sea</td>\n",
       "      <td>Man The Rail</td>\n",
       "      <td>14</td>\n",
       "      <td>1.521003</td>\n",
       "      <td>69</td>\n",
       "      <td>0.0</td>\n",
       "      <td>1.0</td>\n",
       "      <td>NaN</td>\n",
       "      <td>Exeter</td>\n",
       "      <td>03:15</td>\n",
       "      <td>90/01/01</td>\n",
       "      <td>David Garrett Memorial Challenge Trophy Novice...</td>\n",
       "      <td>NaN</td>\n",
       "      <td>NaN</td>\n",
       "      <td>6-8yo</td>\n",
       "      <td>3m1f</td>\n",
       "      <td>Soft</td>\n",
       "      <td>19 fences</td>\n",
       "      <td>[2922.5, 875.0, 420.0, 192.5]</td>\n",
       "      <td>398.3</td>\n",
       "      <td>4409.0</td>\n",
       "      <td>5028.0</td>\n",
       "      <td>GB</td>\n",
       "      <td>5</td>\n",
       "      <td>0</td>\n",
       "      <td>NaN</td>\n",
       "    </tr>\n",
       "    <tr>\n",
       "      <th>2</th>\n",
       "      <td>271018</td>\n",
       "      <td>Just So</td>\n",
       "      <td>7.0</td>\n",
       "      <td>0.0</td>\n",
       "      <td>0.029412</td>\n",
       "      <td>0</td>\n",
       "      <td>J D Roberts</td>\n",
       "      <td>S Burrough</td>\n",
       "      <td>3</td>\n",
       "      <td>15</td>\n",
       "      <td>25.0</td>\n",
       "      <td>10</td>\n",
       "      <td>7</td>\n",
       "      <td>NaN</td>\n",
       "      <td>NaN</td>\n",
       "      <td>NaN</td>\n",
       "      <td>86.0</td>\n",
       "      <td>71.0</td>\n",
       "      <td>NaN</td>\n",
       "      <td>Sousa</td>\n",
       "      <td>Just Camilla</td>\n",
       "      <td>Ascertain I</td>\n",
       "      <td>14</td>\n",
       "      <td>1.521003</td>\n",
       "      <td>66</td>\n",
       "      <td>0.0</td>\n",
       "      <td>1.0</td>\n",
       "      <td>NaN</td>\n",
       "      <td>Exeter</td>\n",
       "      <td>03:15</td>\n",
       "      <td>90/01/01</td>\n",
       "      <td>David Garrett Memorial Challenge Trophy Novice...</td>\n",
       "      <td>NaN</td>\n",
       "      <td>NaN</td>\n",
       "      <td>6-8yo</td>\n",
       "      <td>3m1f</td>\n",
       "      <td>Soft</td>\n",
       "      <td>19 fences</td>\n",
       "      <td>[2922.5, 875.0, 420.0, 192.5]</td>\n",
       "      <td>398.3</td>\n",
       "      <td>4409.0</td>\n",
       "      <td>5028.0</td>\n",
       "      <td>GB</td>\n",
       "      <td>5</td>\n",
       "      <td>0</td>\n",
       "      <td>NaN</td>\n",
       "    </tr>\n",
       "    <tr>\n",
       "      <th>3</th>\n",
       "      <td>271018</td>\n",
       "      <td>Mandraki Shuffle</td>\n",
       "      <td>8.0</td>\n",
       "      <td>0.0</td>\n",
       "      <td>0.090909</td>\n",
       "      <td>0</td>\n",
       "      <td>Oliver Sherwood</td>\n",
       "      <td>M Richards</td>\n",
       "      <td>4</td>\n",
       "      <td>20</td>\n",
       "      <td>45.0</td>\n",
       "      <td>11</td>\n",
       "      <td>0</td>\n",
       "      <td>NaN</td>\n",
       "      <td>NaN</td>\n",
       "      <td>b</td>\n",
       "      <td>66.0</td>\n",
       "      <td>65.0</td>\n",
       "      <td>NaN</td>\n",
       "      <td>Mandalus</td>\n",
       "      <td>Indictment</td>\n",
       "      <td>Desert Call</td>\n",
       "      <td>14</td>\n",
       "      <td>1.521003</td>\n",
       "      <td>69</td>\n",
       "      <td>0.0</td>\n",
       "      <td>0.0</td>\n",
       "      <td>NaN</td>\n",
       "      <td>Exeter</td>\n",
       "      <td>03:15</td>\n",
       "      <td>90/01/01</td>\n",
       "      <td>David Garrett Memorial Challenge Trophy Novice...</td>\n",
       "      <td>NaN</td>\n",
       "      <td>NaN</td>\n",
       "      <td>6-8yo</td>\n",
       "      <td>3m1f</td>\n",
       "      <td>Soft</td>\n",
       "      <td>19 fences</td>\n",
       "      <td>[2922.5, 875.0, 420.0, 192.5]</td>\n",
       "      <td>398.3</td>\n",
       "      <td>4409.0</td>\n",
       "      <td>5028.0</td>\n",
       "      <td>GB</td>\n",
       "      <td>5</td>\n",
       "      <td>0</td>\n",
       "      <td>NaN</td>\n",
       "    </tr>\n",
       "  </tbody>\n",
       "</table>\n",
       "</div>"
      ],
      "text/plain": [
       "      rid         horseName  age  saddle  decimalPrice  isFav  \\\n",
       "0  271018        Combermere  6.0     0.0      0.222222      0   \n",
       "1  271018     Royal Battery  6.0     0.0      0.090909      0   \n",
       "2  271018           Just So  7.0     0.0      0.029412      0   \n",
       "3  271018  Mandraki Shuffle  8.0     0.0      0.090909      0   \n",
       "\n",
       "       trainerName  jockeyName  position positionL  dist  weightSt  weightLb  \\\n",
       "0        R G Frost     J Frost         1       NaN   NaN        11         0   \n",
       "1       D H Barons     S Earle         2        10   NaN        11         0   \n",
       "2      J D Roberts  S Burrough         3        15  25.0        10         7   \n",
       "3  Oliver Sherwood  M Richards         4        20  45.0        11         0   \n",
       "\n",
       "   overWeight  outHandicap headGear    RPR    TR  OR       father  \\\n",
       "0         NaN          NaN      NaN  111.0  94.0 NaN      Absalom   \n",
       "1         NaN          NaN      NaN  101.0  88.0 NaN  Norfolk Air   \n",
       "2         NaN          NaN      NaN   86.0  71.0 NaN        Sousa   \n",
       "3         NaN          NaN        b   66.0  65.0 NaN     Mandalus   \n",
       "\n",
       "           mother         gfather  runners    margin  weight  res_win  \\\n",
       "0  Queen's Parade  Sovereign Path       14  1.521003      69      1.0   \n",
       "1      All At Sea    Man The Rail       14  1.521003      69      0.0   \n",
       "2    Just Camilla     Ascertain I       14  1.521003      66      0.0   \n",
       "3      Indictment     Desert Call       14  1.521003      69      0.0   \n",
       "\n",
       "   res_place price  course   time      date  \\\n",
       "0        1.0   NaN  Exeter  03:15  90/01/01   \n",
       "1        1.0   NaN  Exeter  03:15  90/01/01   \n",
       "2        1.0   NaN  Exeter  03:15  90/01/01   \n",
       "3        0.0   NaN  Exeter  03:15  90/01/01   \n",
       "\n",
       "                                               title rclass band   ages  \\\n",
       "0  David Garrett Memorial Challenge Trophy Novice...    NaN  NaN  6-8yo   \n",
       "1  David Garrett Memorial Challenge Trophy Novice...    NaN  NaN  6-8yo   \n",
       "2  David Garrett Memorial Challenge Trophy Novice...    NaN  NaN  6-8yo   \n",
       "3  David Garrett Memorial Challenge Trophy Novice...    NaN  NaN  6-8yo   \n",
       "\n",
       "  distance condition    hurdles                         prizes  winningTime  \\\n",
       "0     3m1f      Soft  19 fences  [2922.5, 875.0, 420.0, 192.5]        398.3   \n",
       "1     3m1f      Soft  19 fences  [2922.5, 875.0, 420.0, 192.5]        398.3   \n",
       "2     3m1f      Soft  19 fences  [2922.5, 875.0, 420.0, 192.5]        398.3   \n",
       "3     3m1f      Soft  19 fences  [2922.5, 875.0, 420.0, 192.5]        398.3   \n",
       "\n",
       "    prize  metric countryCode ncond  class currency  \n",
       "0  4409.0  5028.0          GB     5      0      NaN  \n",
       "1  4409.0  5028.0          GB     5      0      NaN  \n",
       "2  4409.0  5028.0          GB     5      0      NaN  \n",
       "3  4409.0  5028.0          GB     5      0      NaN  "
      ]
     },
     "execution_count": 2,
     "metadata": {},
     "output_type": "execute_result"
    }
   ],
   "source": [
    "df = pd.read_csv(r\"F:\\Education and Job\\Guvi\\Placement prep projects\\Horse_Race_Prediction\\Combined_data\\combined_horse_race_data.csv\")\n",
    "\n",
    "df.head(4)"
   ]
  },
  {
   "cell_type": "code",
   "execution_count": 3,
   "id": "db1fa110",
   "metadata": {},
   "outputs": [
    {
     "data": {
      "text/plain": [
       "(4107315, 46)"
      ]
     },
     "execution_count": 3,
     "metadata": {},
     "output_type": "execute_result"
    }
   ],
   "source": [
    "df.shape"
   ]
  },
  {
   "cell_type": "code",
   "execution_count": 4,
   "id": "da19064f",
   "metadata": {},
   "outputs": [
    {
     "data": {
      "text/plain": [
       "Index(['rid', 'horseName', 'age', 'saddle', 'decimalPrice', 'isFav',\n",
       "       'trainerName', 'jockeyName', 'position', 'positionL', 'dist',\n",
       "       'weightSt', 'weightLb', 'overWeight', 'outHandicap', 'headGear', 'RPR',\n",
       "       'TR', 'OR', 'father', 'mother', 'gfather', 'runners', 'margin',\n",
       "       'weight', 'res_win', 'res_place', 'price', 'course', 'time', 'date',\n",
       "       'title', 'rclass', 'band', 'ages', 'distance', 'condition', 'hurdles',\n",
       "       'prizes', 'winningTime', 'prize', 'metric', 'countryCode', 'ncond',\n",
       "       'class', 'currency'],\n",
       "      dtype='object')"
      ]
     },
     "execution_count": 4,
     "metadata": {},
     "output_type": "execute_result"
    }
   ],
   "source": [
    "df.columns"
   ]
  },
  {
   "cell_type": "code",
   "execution_count": 5,
   "id": "75209fbb",
   "metadata": {},
   "outputs": [
    {
     "data": {
      "text/plain": [
       "array(['3m1f', '2m', '1m7½f', '2m6f', '2m1f', '6f', '3m1½f', '1m', '2m2f',\n",
       "       '3m', '2m3f', '2m4f', '7f', '1m3f', '2m4½f', '4m', '3m½f', '1m6f',\n",
       "       '1m4f', '3m2½f', '2m5f', '1m2f', '3m4f', '2m3½f', '2m½f', '2m7f',\n",
       "       '3m2f', '5f', '3m5f', '2m5½f', '3m6f', '1m5f', '2m7½f', '2m1½f',\n",
       "       '2m6½f', '4m½f', '2m2½f', '3m3f', '1m6½f', '1m1f', '1m4½f', '7½f',\n",
       "       '1m½f', '1m7f', '5½f', '4m4f', '1m2½f', '1m5½f', '4m2f', '1m3½f',\n",
       "       '1m1½f', '6½f', '3m3½f', '4m2½f', '4m3f', '3m4½f', '3m5½f', '4m1f',\n",
       "       '3m7f', '4m1½f', '3m6½f', '3m7½f', '4f', '4½f', '4m4½f'],\n",
       "      dtype=object)"
      ]
     },
     "execution_count": 5,
     "metadata": {},
     "output_type": "execute_result"
    }
   ],
   "source": [
    "df['distance'].unique()"
   ]
  },
  {
   "cell_type": "code",
   "execution_count": 6,
   "id": "cd385d8b",
   "metadata": {},
   "outputs": [
    {
     "data": {
      "text/plain": [
       "array([0, 1])"
      ]
     },
     "execution_count": 6,
     "metadata": {},
     "output_type": "execute_result"
    }
   ],
   "source": [
    "df['isFav'].unique()"
   ]
  },
  {
   "cell_type": "code",
   "execution_count": 7,
   "id": "15040e41",
   "metadata": {},
   "outputs": [
    {
     "data": {
      "text/plain": [
       "runners\n",
       "12    378048\n",
       "10    362370\n",
       "11    356389\n",
       "9     343566\n",
       "14    329686\n",
       "13    320593\n",
       "8     313384\n",
       "16    259486\n",
       "7     256382\n",
       "15    246480\n",
       "6     186582\n",
       "18    142920\n",
       "17    131138\n",
       "5     110645\n",
       "20     85760\n",
       "19     69711\n",
       "4      49140\n",
       "22     30184\n",
       "21     27027\n",
       "23     19136\n",
       "24     19008\n",
       "25     15875\n",
       "3      12249\n",
       "27      8100\n",
       "28      7784\n",
       "29      7424\n",
       "26      6786\n",
       "30      6690\n",
       "2       1346\n",
       "40       760\n",
       "32       672\n",
       "31       527\n",
       "33       396\n",
       "34       374\n",
       "35       210\n",
       "36       180\n",
       "39       156\n",
       "38       114\n",
       "37        37\n",
       "Name: count, dtype: int64"
      ]
     },
     "execution_count": 7,
     "metadata": {},
     "output_type": "execute_result"
    }
   ],
   "source": [
    "df['runners'].value_counts()"
   ]
  },
  {
   "cell_type": "code",
   "execution_count": 8,
   "id": "ee111826",
   "metadata": {},
   "outputs": [
    {
     "data": {
      "text/plain": [
       "array([1., 0.])"
      ]
     },
     "execution_count": 8,
     "metadata": {},
     "output_type": "execute_result"
    }
   ],
   "source": [
    "df['res_win'].unique()"
   ]
  },
  {
   "cell_type": "code",
   "execution_count": 9,
   "id": "a4def91d",
   "metadata": {},
   "outputs": [
    {
     "data": {
      "text/plain": [
       "array([1., 0.])"
      ]
     },
     "execution_count": 9,
     "metadata": {},
     "output_type": "execute_result"
    }
   ],
   "source": [
    "df['res_place'].unique()"
   ]
  },
  {
   "cell_type": "code",
   "execution_count": 10,
   "id": "5de78900",
   "metadata": {},
   "outputs": [
    {
     "data": {
      "text/plain": [
       "array([ 1,  2,  3,  4,  5,  6, 40,  7,  8,  9, 10, 11, 12, 13, 14, 15, 16,\n",
       "       17, 18, 19, 20, 21, 22, 23, 24, 25, 26, 27, 28, 29, 30, 31, 32, 33,\n",
       "       34, 35, 36, 37, 38, 39,  0])"
      ]
     },
     "execution_count": 10,
     "metadata": {},
     "output_type": "execute_result"
    }
   ],
   "source": [
    "df['position'].unique()"
   ]
  },
  {
   "cell_type": "code",
   "execution_count": 11,
   "id": "0f5c94de",
   "metadata": {},
   "outputs": [
    {
     "data": {
      "text/plain": [
       "rid                   0\n",
       "horseName             0\n",
       "age                 309\n",
       "saddle           179168\n",
       "decimalPrice          0\n",
       "isFav                 0\n",
       "trainerName        2850\n",
       "jockeyName          125\n",
       "position              0\n",
       "positionL        783662\n",
       "dist            1074385\n",
       "weightSt              0\n",
       "weightLb              0\n",
       "overWeight      4012988\n",
       "outHandicap     3994332\n",
       "headGear        3119695\n",
       "RPR              864877\n",
       "TR              1681610\n",
       "OR              1795263\n",
       "father             1289\n",
       "mother             4480\n",
       "gfather          119374\n",
       "runners               0\n",
       "margin                0\n",
       "weight                0\n",
       "res_win               0\n",
       "res_place             0\n",
       "price           4012304\n",
       "course                0\n",
       "time                  0\n",
       "date                  0\n",
       "title                 7\n",
       "rclass          1717422\n",
       "band            2379862\n",
       "ages             143485\n",
       "distance              0\n",
       "condition           404\n",
       "hurdles         2880705\n",
       "prizes                0\n",
       "winningTime           0\n",
       "prize            235284\n",
       "metric                0\n",
       "countryCode           0\n",
       "ncond                 0\n",
       "class                 0\n",
       "currency        4012304\n",
       "dtype: int64"
      ]
     },
     "execution_count": 11,
     "metadata": {},
     "output_type": "execute_result"
    }
   ],
   "source": [
    "df.isnull().sum()"
   ]
  },
  {
   "cell_type": "code",
   "execution_count": 12,
   "id": "0db7178c",
   "metadata": {},
   "outputs": [
    {
     "data": {
      "text/plain": [
       "array(['Exeter', 'Tramore (IRE)', 'Catterick', 'Cheltenham', 'Windsor',\n",
       "       'Leicester', 'Southwell (AW)', 'Fairyhouse (IRE)', 'Ayr',\n",
       "       'Sedgefield', 'Lingfield (AW)', 'Thurles (IRE)', 'Nottingham',\n",
       "       'Haydock', 'Musselburgh', 'Folkestone', 'Market Rasen',\n",
       "       'Naas (IRE)', 'Sandown', 'Chepstow', 'Wolverhampton',\n",
       "       'Newton Abbot', 'Plumpton', 'Kelso', 'Punchestown (IRE)',\n",
       "       'Wincanton', 'Ascot', 'Wetherby', 'Leopardstown (IRE)',\n",
       "       'Newcastle', 'Warwick', 'Fontwell', 'Carlisle', 'Worcester',\n",
       "       'Ludlow', 'Gowran Park (IRE)', 'Kempton', 'Towcester',\n",
       "       'Navan (IRE)', 'Doncaster', 'Clonmel (IRE)', 'Newbury',\n",
       "       'Uttoxeter', 'Down Royal (IRE)', 'Fakenham', 'Huntingdon',\n",
       "       'Downpatrick (IRE)', 'Tipperary (IRE)', 'Stratford', 'Hereford',\n",
       "       'Wexford (RH) (IRE)', 'Bangor-on-Dee', 'Hexham', 'Limerick (IRE)',\n",
       "       'Ballinrobe (IRE)', 'Taunton', 'Beverley', 'Curragh (IRE)',\n",
       "       'Southwell', 'Roscommon (IRE)', 'Hamilton', 'Aintree', 'Brighton',\n",
       "       'Phoenix Park (IRE)', 'Pontefract', 'Ripon', 'Mallow (IRE)',\n",
       "       'Newmarket', 'Thirsk', 'Sligo (IRE)', 'Epsom', 'Perth', 'Redcar',\n",
       "       'Bath', 'Salisbury', 'Killarney (IRE)', 'Chester', 'Lingfield',\n",
       "       'York', 'Dundalk (IRE)', 'Goodwood', 'Cartmel', 'Kilbeggan (IRE)',\n",
       "       'Tralee (IRE)', 'Yarmouth', 'Newmarket (July)',\n",
       "       'Bellewstown (IRE)', 'Galway (IRE)', 'Laytown (IRE)',\n",
       "       'Listowel (IRE)', 'Chantilly (FR)', 'Longchamp (FR)',\n",
       "       'Saint-Cloud (FR)', 'Churchill Downs (USA)', 'Belmont Park (USA)',\n",
       "       'Wolverhampton (AW)', 'Deauville (FR)', 'Arlington Park (USA)',\n",
       "       'Maisons-Laffitte (FR)', 'Aqueduct (USA)', 'Santa Anita (USA)',\n",
       "       'Hollywood Park (USA)', 'Del Mar (USA)', 'Cork (IRE)',\n",
       "       'Gelsenkirchen (GER)', 'Tokyo (JPN)', 'Sha Tin (HK)',\n",
       "       'Mulheim (GER)', 'Lyon Parilly (FR)', 'Baden-Baden (GER)',\n",
       "       'Saratoga (USA)', 'Hoppegarten (GER)', 'Monmouth Park (USA)',\n",
       "       'Meadowlands (USA)', 'Keeneland (USA)', 'Woodbine (CAN)',\n",
       "       'San Siro (ITY)', 'Flemington (AUS)', 'Gulfstream Park (USA)',\n",
       "       'Oaklawn Park (USA)', 'Pimlico (USA)', 'Suffolk Downs (USA)',\n",
       "       'Capannelle (ITY)', 'Hamburg (GER)', 'Naples (ITY)',\n",
       "       'Frankfurt (GER)', 'Dusseldorf (GER)', 'Taby (SWE)',\n",
       "       'Cologne (GER)', 'Louisiana Downs (USA)', 'Marseille Borely (FR)',\n",
       "       'Moonee Valley (AUS)', 'Toulouse (FR)', 'Kranji (SIN)',\n",
       "       'Nakayama (JPN)', 'Dielsdorf (SWI)', 'Jagersro (SWE)',\n",
       "       'Happy Valley (HK)', 'Hanshin (JPN)', 'Vichy (FR)', 'Parx (USA)',\n",
       "       'Veliefendi (TUR)', 'Kyoto (JPN)', 'Nad Al Sheba (UAE)',\n",
       "       'Jebel Ali (UAE)', 'Ovrevoll (NOR)', 'Munich (GER)',\n",
       "       'Copenhagen (DEN)', 'Les Landes (JER)', 'Laurel Park (USA)',\n",
       "       'Greyville (SAF)', 'Kenilworth (SAF)', 'Vaal (SAF)',\n",
       "       'Fairview (SAF)', 'Gosforth (SAF)', 'Borrowdale (SAF)',\n",
       "       'Scottsville (SAF)', 'Newmarket (SAF)', 'Durbanville (SAF)',\n",
       "       'Bloemfontein (SAF)', 'Flamingo Park (SAF)', 'Clairwood (SAF)',\n",
       "       'Turffontein (SAF)', 'Vaal sand (SAF)', 'Arlington (SAF)',\n",
       "       'Chukyo (JPN)', 'Krefeld (GER)', 'Wolverhampton (AW) (GB) (ARAB)',\n",
       "       'Huntingdon (GB) (ARAB)', 'Exeter (gb) (ARAB)',\n",
       "       'Brighton (gb) (ARAB)', 'Uttoxeter (GB) (ARAB)', 'Dortmund (GER)',\n",
       "       'Niigata (JPN)', 'Newmarket (GB) (ARAB)', 'Bremen (GER)',\n",
       "       'Turffontein old (SAF)', 'Turffontein new (SAF)', 'Neuss (GER)',\n",
       "       'Taunton (GB) (ARAB)', 'Salisbury (GB) (ARAB)',\n",
       "       'Newbury (GB) (ARAB)', 'Fontwell (gb) (ARAB)',\n",
       "       'Fakenham (GB) (ARAB)', 'Hereford (GB) (ARAB)',\n",
       "       'Chepstow (GB) (ARAB)', 'Prairie Meadows (USA)',\n",
       "       'Ellis Park (USA)', 'Lingfield (AW) (GB) (ARAB)',\n",
       "       'Stratford (gb) (ARAB)', 'Chester (gb) (ARAB)',\n",
       "       'Turfway Park (USA)', 'Hoosier park (USA)', 'Fair Grounds (USA)',\n",
       "       'Turffontein Standside (SAF)', 'Turffontein Inside (SAF)',\n",
       "       'RANDJESFONTEIN (SAF)', 'Bath (GB) (ARAB)',\n",
       "       'Southwell (AW) (gb) (ARAB)', 'Hawthorne (USA)',\n",
       "       'Bordeaux Le Bouscat (FR)', 'Lone Star Park (USA)',\n",
       "       'St Moritz (SWI)', 'Auteuil (FR)', 'Frauenfeld (SWI)',\n",
       "       'Gulfstream Park West (USA)', 'Hanover (GER)', 'Lucerne (SWI)',\n",
       "       'Market Rasen (gb) (ARAB)', 'Kentucky Downs (USA)',\n",
       "       'Golden Gate Fields (USA)', 'Kempton (AW)', 'Sunland Park (USA)',\n",
       "       'Sam Houston (USA)', 'Bay Meadows (USA)', 'Colonial Downs (USA)',\n",
       "       'Hastings Racecourse (CAN)', 'Dresden (GER)',\n",
       "       'Delaware Park (USA)', 'Thistledown (USA)',\n",
       "       'Mountaineer Park (USA)', 'Klampenborg (DEN)',\n",
       "       'Emerald Downs (USA)', 'Northlands park (CAN)',\n",
       "       'Warwick (gb) (ARAB)', 'Delta downs (USA)', 'Ascot (AUS)',\n",
       "       'Club Hipico de Santiago (CHI)', 'Tampa Bay Downs (USA)',\n",
       "       'Hipodromo Chile (CHI)', 'Fukushima (JPN)', \"L'Ancresse (GUE)\",\n",
       "       'Stromsholm (SWE)', 'Kempton (AW) (gb) (ARAB)',\n",
       "       'Finger Lakes (USA)', 'Charles town (USA)',\n",
       "       'Canterbury Park (USA)', 'Fort Erie (CAN)', 'Varese (ITY)',\n",
       "       'Evangeline Downs (USA)', 'Caulfield (AUS)',\n",
       "       'Nottingham (GB) (ARAB)', 'Livorno (ITY)', 'Dundalk (AW) (IRE)',\n",
       "       'Clairefontaine (FR)', 'Sandown (GB) (ARAB)',\n",
       "       'Presque Isle Downs (USA)', 'Belterra Park (USA)',\n",
       "       'Remington Park (USA)', 'Florence (ITY)', 'Craon (FR)',\n",
       "       'Fairplex Park (USA)', 'Zia park (USA)', 'Beulah park (USA)',\n",
       "       'Retama Park (USA)', 'Cranbourne (AUS)', 'Geelong (AUS)',\n",
       "       'Sandown (AUS)', 'Siracusa (ITY)', 'Randwick (AUS)',\n",
       "       'Rosehill (AUS)', 'Turf Paradise (USA)', 'Cagnes-Sur-Mer (FR)',\n",
       "       'Nantes (FR)', 'Morphettville (AUS)', 'Cheltenham (AUS)',\n",
       "       'Newcastle (AUS)', 'Canterbury Park (AUS)', 'Chelmsford (AW)',\n",
       "       'Eagle Farm (AUS)', 'Gold Coast (AUS)', 'Doomben (AUS)',\n",
       "       'Belmont Park (Perth) (AUS)', 'Stampede park (CAN)',\n",
       "       'Ruidoso Downs (USA)', 'SunRay Park (USA)', 'Penn National (USA)',\n",
       "       'Assiniboia downs (CAN)', 'Warwick Farm (AUS)', 'Hawkesbury (AUS)',\n",
       "       'Hobart (AUS)', 'Launceston (AUS)', 'Gosford (AUS)',\n",
       "       'Indiana Grand (USA)', 'Ffos Las', 'Ffos Las (GB) (ARAB)',\n",
       "       'Ascot (gb) (ARAB)', 'Bendigo (AUS)', 'Seymour (AUS)',\n",
       "       'Meydan (UAE)', 'Ballarat (AUS)', 'Sale (AUS)',\n",
       "       'Kembla Grange (AUS)', 'Enghien (FR)', 'Fontainebleau (FR)',\n",
       "       'Morphettville Parks (AUS)', 'Saint-Malo (FR)',\n",
       "       'La Teste De Buch (FR)', 'Compiegne (FR)', \"Le Lion-D'Angers (FR)\",\n",
       "       'Cidade Jardim (BRZ)', 'Kawasaki (JPN)', 'Mombetsu (JPN)',\n",
       "       'Amiens (FR)', 'Ohi (JPN)', 'Morioka (JPN)', 'Dieppe (FR)',\n",
       "       'Hakodate (JPN)', 'Hastings (NZ)', 'Merano (ITY)',\n",
       "       'Strasbourg (FR)', 'Pardubice (CZE)', 'Wyong (AUS)',\n",
       "       'Riccarton Park (NZ)', 'Le Croise-Laroche (FR)', 'Otaki (NZ)',\n",
       "       'Trentham (NZ)', 'Pisa (ITY)', 'Ellerslie (NZ)', 'Maronas (URU)',\n",
       "       'Valparaiso Sporting Club (CHI)', 'Palermo (ARG)',\n",
       "       'La Plata (ARG)', 'Gavea (BRZ)', 'Kokura (JPN)', 'Saga (JPN)',\n",
       "       'Te Rapa (NZ)', 'Le Mans (FR)', 'San Isidro (ARG)', 'NAGOYA (JPN)',\n",
       "       'Awapuni (NZ)', 'Te aroha (NZ)', 'Taruma (BRZ)', 'Sonoda (JPN)',\n",
       "       'Funabashi (JPN)', 'Scone (AUS)', 'Curragh (IRE) (ARAB)',\n",
       "       'Urawa (JPN)', 'Lysa Nad Labem (CZE)', 'Sapporo (JPN)',\n",
       "       'Waregem (BEL)', 'Cristal (BRZ)', 'Kanazawa (JPN)', 'Taipa (MAC)',\n",
       "       'Mont-De-Marsan (FR)', 'Arapahoe Park (USA)', 'Wingatui (NZ)',\n",
       "       'Pukekohe Park (NZ)', 'Matamata (NZ)', 'Kochi (JPN)',\n",
       "       'Tauranga (NZ)', 'Avenches (SWI)', 'Arawa park (NZ)',\n",
       "       'La Zarzuela (SPA)', 'Angers (FR)', 'Most (CZE)',\n",
       "       'Marseille Pont-de-Vivaux (FR)', 'Dax (FR)', 'Bad Doberan (GER)',\n",
       "       'Windsor (GB) (ARAB)', 'Doncaster (GB) (ARAB)', 'Hawera (NZ)',\n",
       "       'Fresno (USA)', 'Kensington (AUS)', 'Pau (FR)',\n",
       "       'Pukekura Raceway (NZ)', 'Hyeres (FR)', 'Chateaubriant (FR)',\n",
       "       'Pleasanton (USA)', 'Velka Chuchle (CZE)', 'Sunshine Coast (AUS)',\n",
       "       'Los Alamitos (USA)', 'Pornichet-La Baule (FR)',\n",
       "       \"Les Sables-d'Olonne (FR)\", 'Ruakaka (NZ)', 'Lyon-La Soie (FR)',\n",
       "       'Albuquerque (USA)', 'Monterrico (PER)', 'Avondale (NZ)',\n",
       "       'Nimes (FR)', 'Echuca (AUS)', 'Canberra (AUS)', 'Goulburn (AUS)',\n",
       "       'Pakenham (AUS)', 'Albury (AUS)', 'Mornington (AUS)',\n",
       "       'Werribee (AUS)', 'Wellington (AUS)', 'Wexford (IRE)', 'Moe (AUS)',\n",
       "       'Kyneton (AUS)', 'Angouleme (FR)', 'Goodwood (GB) (ARAB)',\n",
       "       'San Sebastian (SPA)', 'Saint-Brieuc (FR)', 'Moulins (FR)',\n",
       "       'Chelmsford (AW) (GB) (ARAB)', 'Meslay-Du-Maine (FR)',\n",
       "       'Newcastle (AW)', 'Magdeburg (GER)', 'Bro Park (SWE)',\n",
       "       'Seoul (KOR)', 'Chantilly (fr) (ARAB)', 'Ghlin (BEL)',\n",
       "       'Meydan (uae) (ARAB)', 'Santa anita (usa) (ARAB)', 'Argentan (FR)',\n",
       "       'Ostend (BEL)', 'Nancy (FR)', 'Cholet (FR)',\n",
       "       'Mahoning Valley (USA)', 'Wagga Wagga (AUS)', 'Northam (AUS)',\n",
       "       'Wangaratta (AUS)', 'Tarbes (FR)', 'Salon-de-Provence (FR)',\n",
       "       'Le Touquet (FR)', 'Longchamp (FR) (ARAB)', 'Far Hills (USA)',\n",
       "       'Mannheim (GER)', 'Gundagai (AUS)', 'Grafton (AUS)',\n",
       "       'Gatton (AUS)', 'Great Meadow (USA)', 'Alice springs (AUS)',\n",
       "       'Lingfield (GB) (ARAB)', 'Century Mile (CAN)', 'Timonium (USA)',\n",
       "       'Ashburton (NZ)', 'Sakhir (BHR)', 'Riyadh (KSA)',\n",
       "       'Riyadh (ksa) (ARAB)', 'Armidale (AUS)', 'Will Rogers Downs (USA)',\n",
       "       'Ipswich (AUS)', 'Fonner Park (USA)', 'Balaklava (AUS)',\n",
       "       'Vittel (FR)', 'Evreux (FR)', 'Ankara (TUR)'], dtype=object)"
      ]
     },
     "execution_count": 12,
     "metadata": {},
     "output_type": "execute_result"
    }
   ],
   "source": [
    "df['course'].unique()"
   ]
  },
  {
   "cell_type": "code",
   "execution_count": 13,
   "id": "13de1c3c",
   "metadata": {},
   "outputs": [
    {
     "data": {
      "text/plain": [
       "440"
      ]
     },
     "execution_count": 13,
     "metadata": {},
     "output_type": "execute_result"
    }
   ],
   "source": [
    "len(df['course'].unique())"
   ]
  },
  {
   "cell_type": "code",
   "execution_count": 14,
   "id": "a6e1585a",
   "metadata": {},
   "outputs": [],
   "source": [
    "selected_columns = ['horseName', 'age','trainerName', 'jockeyName','RPR','course',\n",
    "                    'weight','TR','isFav', 'runners', 'distance','hurdles', 'res_place','position']\n",
    "df_feature = df[selected_columns]\n"
   ]
  },
  {
   "cell_type": "code",
   "execution_count": 15,
   "id": "717be6d2",
   "metadata": {},
   "outputs": [
    {
     "name": "stdout",
     "output_type": "stream",
     "text": [
      "DataFrame saved to F:\\Education and Job\\Guvi\\Placement prep projects\\Horse_Race_Prediction\\Combined_data\\selected_features.csv\n"
     ]
    }
   ],
   "source": [
    "# Define the file path where you want to save the new CSV file\n",
    "output_file = r\"F:\\Education and Job\\Guvi\\Placement prep projects\\Horse_Race_Prediction\\Combined_data\\selected_features.csv\"\n",
    "\n",
    "# Save the dataframe to CSV\n",
    "df_feature.to_csv(output_file, index=False)\n",
    "\n",
    "print(f\"DataFrame saved to {output_file}\")\n"
   ]
  }
 ],
 "metadata": {
  "kernelspec": {
   "display_name": ".venv",
   "language": "python",
   "name": "python3"
  },
  "language_info": {
   "codemirror_mode": {
    "name": "ipython",
    "version": 3
   },
   "file_extension": ".py",
   "mimetype": "text/x-python",
   "name": "python",
   "nbconvert_exporter": "python",
   "pygments_lexer": "ipython3",
   "version": "3.12.9"
  }
 },
 "nbformat": 4,
 "nbformat_minor": 5
}
